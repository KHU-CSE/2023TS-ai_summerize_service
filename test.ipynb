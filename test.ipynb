{
 "cells": [
  {
   "cell_type": "code",
   "execution_count": 1,
   "metadata": {},
   "outputs": [
    {
     "name": "stderr",
     "output_type": "stream",
     "text": [
      "[nltk_data] Downloading package punkt to /Users/guhyeon/nltk_data...\n",
      "[nltk_data]   Package punkt is already up-to-date!\n"
     ]
    },
    {
     "name": "stdout",
     "output_type": "stream",
     "text": [
      "Modules loaded successfully\n"
     ]
    }
   ],
   "source": [
    "from functions import Context_to_Database , find_Contexts_related_to_Question , majority_vote, postposition_removal_ensemble, model_inference"
   ]
  },
  {
   "cell_type": "markdown",
   "metadata": {},
   "source": [
    "# 문서를 데이터베이스에 업로드"
   ]
  },
  {
   "cell_type": "code",
   "execution_count": null,
   "metadata": {},
   "outputs": [
    {
     "data": {
      "text/plain": [
       "True"
      ]
     },
     "execution_count": 2,
     "metadata": {},
     "output_type": "execute_result"
    }
   ],
   "source": [
    "my_context = \"파이썬은 1991년에 발표된 인터프리터 방식의 프로그래밍 언어이다. 파이썬의 강력한 라이브러리와 풍부한 생태계를 통해, 데이터를 수집하고 분석하며 시각화하기 용이하다. 데이터 분석 분야에서 파이썬의 사용이 널리 퍼진 이유 중 하나는, 다른 프로그래밍 언어에 비해 직관적이기 때문에 비교적 쉽고 간편하게 사용할 수 있기 때문이다. 파이썬은 웹 프레임워크와 같은 라이브러리와 함께 사용될 경우, 데이터를 수집하고 처리한 후 결과를 웹 애플리케이션으로 표시하는 것도 가능하다.\"\n",
    "Context_to_Database(context = my_context, context_id = \"Python\", user_id = \"guhyun9454\")"
   ]
  },
  {
   "cell_type": "code",
   "execution_count": null,
   "metadata": {},
   "outputs": [
    {
     "data": {
      "text/plain": [
       "True"
      ]
     },
     "execution_count": 3,
     "metadata": {},
     "output_type": "execute_result"
    }
   ],
   "source": [
    "my_context_2 = \"C언어 자체는 지원되는 기능이 적고 문법이 간단하다. 객체 지향 프로그래밍(OOP)이나 코루틴, 클로저, 메타 프로그래밍 등 고수준의 기능들을 지원하는 언어들과 비교하면 특히나 그렇다. 550쪽 정도밖에 안 되는 C언어 표준에서도 순수 문법 부분은 200쪽 정도밖에 안 되며 나머지는 다 라이브러리 관련 부분이고, 함수의 개수로 치면 고작해야 150개 근처이다. 수천 개나 되는 기본 라이브러리를 지원하는 다른 언어들과 비교하면 정말 작고 간단하다. 초반의 포인터 장벽만 넘는다면 문법 자체를 마스터하고 간단한 커맨드라인 프로그래밍을 할 수 있는 수준까지는 엄청 쉽다.\"\n",
    "Context_to_Database(context = my_context_2, context_id = \"C\", user_id = \"guhyun9454\")"
   ]
  },
  {
   "cell_type": "code",
   "execution_count": null,
   "metadata": {},
   "outputs": [
    {
     "data": {
      "text/plain": [
       "True"
      ]
     },
     "execution_count": 4,
     "metadata": {},
     "output_type": "execute_result"
    }
   ],
   "source": [
    "my_context_3 = \"\"\"비교적 자유로운 학풍을 가지고 있으며 학사관리 또한 유연한 편이다.\n",
    "가령 다른 대학과는 달리 2학점 강의가 거의 없고 대부분 3학점으로 채워져 있다.\n",
    "그래서 다른 대학들은 일반적으로 강의가 5시에 끝나는 반면 경희대학교는 6시에 끝난다.\n",
    "이는 복수전공 이수와 같이 학생들의 자율적인 학습 경로를 유도하기 위함으로 해석된다.\n",
    "이 때문에 타 대학에 비해서 복수전공(경희대에서는 다전공으로 불린다.) 또는 부전공 제도가 자유롭고 또 활발하다.\n",
    "다만 이는 양날의 검인 것이, 2학점 강의보다 교양과목에서 시간을 많이 뺏길 수 있고,\n",
    "강의는 6시에 끝나는 반면 사무실 직원들은 타 대학과 마찬가지로 5시에 철수해 버리기 때문에\n",
    "강의가 풀로 들어 있는 날은 사무실에서 민원을 보기가 고달파지는 일이 발생하기도 한다.[13]\n",
    "\"\"\"\n",
    "Context_to_Database(context = my_context_3, context_id = \"KHU\", user_id = \"guhyun9454\")"
   ]
  },
  {
   "cell_type": "code",
   "execution_count": null,
   "metadata": {},
   "outputs": [
    {
     "data": {
      "text/plain": [
       "True"
      ]
     },
     "execution_count": 5,
     "metadata": {},
     "output_type": "execute_result"
    }
   ],
   "source": [
    "my_context_4 = \"선형대수학은 벡터 공간, 벡터, 선형 변환, 행렬, 연립 선형 방정식 등을 연구하는 대수학의 한 분야이다. 현대 선형대수학은 그중에서도 벡터 공간이 주 연구 대상이다. 추상대수학, 함수해석학에 널리 쓰이고 있다. 선형대수학은 자연과학과 공학에도 널리 활용된다. 선형 연립방정식을 푸는 좋은 방법으로는 소거법과 행렬식이 있다.\"\n",
    "Context_to_Database(context = my_context_4, context_id = \"LinearAlgebra\", user_id = \"guhyun9454\")"
   ]
  },
  {
   "cell_type": "code",
   "execution_count": null,
   "metadata": {},
   "outputs": [
    {
     "data": {
      "text/plain": [
       "True"
      ]
     },
     "execution_count": 6,
     "metadata": {},
     "output_type": "execute_result"
    }
   ],
   "source": [
    "my_context_5 = \"톰 크루즈는 임하는 영화마다 스턴트 없이 직접 액션에 임하는 배우. 이번 <탑건: 매버릭>에 등장하는 다양한 항공 액션도 모두 직접 톰 크루즈가 소화해 놀랍다. 톰 크루즈는 전편 <탑건>에서는 F-14 톰캣의 조종석에서 촬영을 했고 이후 <미션 임파서블: 폴 아웃> 등에서 직접 헬기를 운전하는 등의 장면이 노출 되어 그의 조종 실력이 건재함을 확인할 수 있었다. 이번 작품에서 각본 및 프로듀서를 담당한 크리스토퍼 맥쿼리는 “<미션 임파서블: 폴 아웃> 촬영 당시 톰 크루즈가 뉴질랜드 협곡에서 헬리콥터로 제어된 스핀을 도는 것을 봤고, 아부다비에서 25,000 피트 상공에서 시속 160마일로 날아가는 비행기에서 뛰어내리는 것을 봐야했다. 지금까지 톰 크루즈와 해왔던 모든 작품에 항공 분량이 있었다. 그는 항공에 대한 믿을 수 없는 사랑과 열정을 가지고 있다”며 <탑건> 시리즈가 톰 크루즈에게 숙명적인 작품임을 밝혔다.\"\n",
    "Context_to_Database(context = my_context_5, context_id = \"TopGun\", user_id = \"guhyun9454\")"
   ]
  },
  {
   "cell_type": "markdown",
   "metadata": {},
   "source": [
    "# 질의과 가장 유사한 문서 "
   ]
  },
  {
   "cell_type": "code",
   "execution_count": null,
   "metadata": {},
   "outputs": [
    {
     "name": "stdout",
     "output_type": "stream",
     "text": [
      "['KHU', 'KHU', 'KHU', 'KHU', 'LinearAlgebra']\n",
      "가장 유사한 context_id:  KHU\n"
     ]
    }
   ],
   "source": [
    "top_k_contexts = find_Contexts_related_to_Question(question=\"경희대학교에서 복수전공을 뭐라고 불러?\",top_k=5,user_id=\"guhyun9454\")\n",
    "print(top_k_contexts)\n",
    "print(\"가장 유사한 context_id: \",majority_vote(top_k_contexts))"
   ]
  },
  {
   "cell_type": "code",
   "execution_count": null,
   "metadata": {},
   "outputs": [
    {
     "name": "stdout",
     "output_type": "stream",
     "text": [
      "['Python', 'Python', 'Python', 'Python', 'Python']\n",
      "가장 유사한 context_id:  Python\n"
     ]
    }
   ],
   "source": [
    "top_k_contexts = find_Contexts_related_to_Question(question=\"       \",top_k = 5 , user_id=\"guhyun9454\")\n",
    "print(top_k_contexts)\n",
    "print(\"가장 유사한 context_id: \",majority_vote(top_k_contexts))"
   ]
  },
  {
   "cell_type": "code",
   "execution_count": null,
   "metadata": {},
   "outputs": [
    {
     "name": "stdout",
     "output_type": "stream",
     "text": [
      "['LinearAlgebra', 'LinearAlgebra', 'LinearAlgebra', 'LinearAlgebra', 'LinearAlgebra']\n",
      "가장 유사한 context_id:  LinearAlgebra\n"
     ]
    }
   ],
   "source": [
    "top_k_contexts = find_Contexts_related_to_Question(question=\"선형 연립방정식은 어떻게 풀어?\",top_k = 5 , user_id=\"guhyun9454\")\n",
    "print(top_k_contexts)\n",
    "print(\"가장 유사한 context_id: \",majority_vote(top_k_contexts))"
   ]
  },
  {
   "cell_type": "code",
   "execution_count": null,
   "metadata": {},
   "outputs": [
    {
     "name": "stdout",
     "output_type": "stream",
     "text": [
      "['TopGun', 'TopGun', 'TopGun', 'TopGun', 'TopGun']\n",
      "가장 유사한 context_id:  TopGun\n"
     ]
    }
   ],
   "source": [
    "top_k_contexts = find_Contexts_related_to_Question(question=\"톰 크루즈가 나오는 영화 이름이 뭐야?\",top_k = 5 , user_id=\"guhyun9454\")\n",
    "print(top_k_contexts)\n",
    "print(\"가장 유사한 context_id: \",majority_vote(top_k_contexts))"
   ]
  },
  {
   "cell_type": "code",
   "execution_count": null,
   "metadata": {},
   "outputs": [
    {
     "name": "stdout",
     "output_type": "stream",
     "text": [
      "['Python', 'Python', 'Python', 'C', 'Python']\n",
      "가장 유사한 context_id:  Python\n"
     ]
    }
   ],
   "source": [
    "top_k_contexts = find_Contexts_related_to_Question(question=\"데이터 분석에 자주 쓰이는 프로그래밍 언어가 뭐야?\",top_k = 5 , user_id=\"guhyun9454\")\n",
    "print(top_k_contexts)\n",
    "print(\"가장 유사한 context_id: \",majority_vote(top_k_contexts))"
   ]
  },
  {
   "cell_type": "markdown",
   "metadata": {},
   "source": [
    "# 모델 추론"
   ]
  },
  {
   "cell_type": "code",
   "execution_count": 3,
   "metadata": {},
   "outputs": [
    {
     "name": "stdout",
     "output_type": "stream",
     "text": [
      "모델 추론 시간 : 0.33s\n",
      "파이썬\n"
     ]
    }
   ],
   "source": [
    "context = \"파이썬은 1991년에 발표된 인터프리터 방식의 프로그래밍 언어이다. 파이썬의 강력한 라이브러리와 풍부한 생태계를 통해, 데이터를 수집하고 분석하며 시각화하기 용이하다. 데이터 분석 분야에서 파이썬의 사용이 널리 퍼진 이유 중 하나는, 다른 프로그래밍 언어에 비해 직관적이기 때문에 비교적 쉽고 간편하게 사용할 수 있기 때문이다. 파이썬은 웹 프레임워크와 같은 라이브러리와 함께 사용될 경우, 데이터를 수집하고 처리한 후 결과를 웹 애플리케이션으로 표시하는 것도 가능하다.\"\n",
    "question = \"데이터 분석에 자주 쓰이는 프로그래밍 언어가 뭐야?\"\n",
    "print(model_inference(context=context,question=question))"
   ]
  },
  {
   "cell_type": "markdown",
   "metadata": {},
   "source": [
    "# 모델 추론 결과의 조사를 제거"
   ]
  },
  {
   "cell_type": "code",
   "execution_count": 5,
   "metadata": {},
   "outputs": [
    {
     "name": "stdout",
     "output_type": "stream",
     "text": [
      "['경희대학교', '경희대', '경희대학교', '학교', '경희대학교', '경희대학교']\n",
      "경희대학교\n"
     ]
    }
   ],
   "source": [
    "nouns = postposition_removal_ensemble(\"경희대학교는\")\n",
    "print(nouns)\n",
    "print(majority_vote(nouns))"
   ]
  }
 ],
 "metadata": {
  "kernelspec": {
   "display_name": "base",
   "language": "python",
   "name": "python3"
  },
  "language_info": {
   "codemirror_mode": {
    "name": "ipython",
    "version": 3
   },
   "file_extension": ".py",
   "mimetype": "text/x-python",
   "name": "python",
   "nbconvert_exporter": "python",
   "pygments_lexer": "ipython3",
   "version": "3.11.4"
  }
 },
 "nbformat": 4,
 "nbformat_minor": 2
}
